{
 "cells": [
  {
   "cell_type": "markdown",
   "metadata": {},
   "source": [
    "NOTE:\n",
    "You are supposeed to launch moveit demo. \n",
    "Also, change \"group_name\" correspoinding to your robot's planning name."
   ]
  },
  {
   "cell_type": "code",
   "execution_count": 1,
   "metadata": {},
   "outputs": [],
   "source": [
    "import sys\n",
    "import copy\n",
    "import rospy\n",
    "import moveit_commander\n",
    "import moveit_msgs.msg\n",
    "import geometry_msgs.msg\n",
    "from math import pi\n",
    "from std_msgs.msg import String\n",
    "from moveit_commander.conversions import pose_to_list"
   ]
  },
  {
   "cell_type": "code",
   "execution_count": 2,
   "metadata": {},
   "outputs": [],
   "source": [
    "def all_close(goal, actual, tolerance):\n",
    "  \"\"\"\n",
    "  Convenience method for testing if a list of values are within a tolerance of their counterparts in another list\n",
    "  @param: goal       A list of floats, a Pose or a PoseStamped\n",
    "  @param: actual     A list of floats, a Pose or a PoseStamped\n",
    "  @param: tolerance  A float\n",
    "  @returns: bool\n",
    "  \"\"\"\n",
    "  all_equal = True\n",
    "  if type(goal) is list:\n",
    "    for index in range(len(goal)):\n",
    "      if abs(actual[index] - goal[index]) > tolerance:\n",
    "        return False\n",
    "\n",
    "  elif type(goal) is geometry_msgs.msg.PoseStamped:\n",
    "    return all_close(goal.pose, actual.pose, tolerance)\n",
    "\n",
    "  elif type(goal) is geometry_msgs.msg.Pose:\n",
    "    return all_close(pose_to_list(goal), pose_to_list(actual), tolerance)\n",
    "\n",
    "  return True"
   ]
  },
  {
   "cell_type": "code",
   "execution_count": 3,
   "metadata": {},
   "outputs": [],
   "source": [
    "moveit_commander.roscpp_initialize(sys.argv)\n",
    "rospy.init_node('move_group_python_interface_tutorial',anonymous=True)\n",
    "robot = moveit_commander.RobotCommander()\n",
    "scene = moveit_commander.PlanningSceneInterface()\n",
    "## set robot name ##\n",
    "group_name = \"manipulator\"\n",
    "group = moveit_commander.MoveGroupCommander(group_name)\n",
    "display_trajectory_publisher = rospy.Publisher('/move_group/display_planned_path',\n",
    "                                                   moveit_msgs.msg.DisplayTrajectory,\n",
    "                                                   queue_size=20)"
   ]
  },
  {
   "cell_type": "code",
   "execution_count": 4,
   "metadata": {
    "scrolled": false
   },
   "outputs": [
    {
     "name": "stdout",
     "output_type": "stream",
     "text": [
      "============ Printing robot state\n",
      "joint_state: \n",
      "  header: \n",
      "    seq: 0\n",
      "    stamp: \n",
      "      secs: 0\n",
      "      nsecs:         0\n",
      "    frame_id: \"world\"\n",
      "  name: - panda_joint1\n",
      "- panda_joint2\n",
      "- panda_joint3\n",
      "- panda_joint4\n",
      "- panda_joint5\n",
      "- panda_joint6\n",
      "- panda_joint7\n",
      "- panda_finger_joint1\n",
      "- panda_finger_joint2\n",
      "  position: [0.00026301420156207546, -0.7586636837514559, -0.00017646978114507894, -2.0121450008054267, 0.00023807722756311056, 1.3540817070618099, 0.7845141626120014, 0.035, 0.035]\n",
      "  velocity: []\n",
      "  effort: []\n",
      "multi_dof_joint_state: \n",
      "  header: \n",
      "    seq: 0\n",
      "    stamp: \n",
      "      secs: 0\n",
      "      nsecs:         0\n",
      "    frame_id: \"world\"\n",
      "  joint_names: - virtual_joint\n",
      "  transforms: \n",
      "    - \n",
      "      translation: \n",
      "        x: 0.0\n",
      "        y: 0.0\n",
      "        z: 0.0\n",
      "      rotation: \n",
      "        x: 0.0\n",
      "        y: 0.0\n",
      "        z: 0.0\n",
      "        w: 1.0\n",
      "  twist: []\n",
      "  wrench: []\n",
      "attached_collision_objects: []\n",
      "is_diff: False\n",
      "\n"
     ]
    }
   ],
   "source": [
    "print \"============ Printing robot state\"\n",
    "print robot.get_current_state()\n",
    "print \"\""
   ]
  },
  {
   "cell_type": "code",
   "execution_count": 5,
   "metadata": {},
   "outputs": [
    {
     "data": {
      "text/plain": [
       "True"
      ]
     },
     "execution_count": 5,
     "metadata": {},
     "output_type": "execute_result"
    }
   ],
   "source": [
    "### joint control\n",
    "\n",
    "## Get current joint states\n",
    "joint_goal = group.get_current_joint_values()\n",
    "## Decreased joint_goal[0] by 0.1 rad, which means joint_1_s\n",
    "joint_goal[1] = joint_goal[1] - 0.1\n",
    "group.go(joint_goal, wait=True)\n",
    "group.stop()\n",
    "current_joints = group.get_current_joint_values()\n",
    "all_close(joint_goal, current_joints, 0.01)"
   ]
  },
  {
   "cell_type": "code",
   "execution_count": 6,
   "metadata": {},
   "outputs": [
    {
     "name": "stdout",
     "output_type": "stream",
     "text": [
      "x: 0.279816710607\n",
      "y: -1.77869297838e-05\n",
      "z: 0.619652714243\n"
     ]
    },
    {
     "data": {
      "text/plain": [
       "True"
      ]
     },
     "execution_count": 6,
     "metadata": {},
     "output_type": "execute_result"
    }
   ],
   "source": [
    "### Cartesian control\n",
    "\n",
    "pose_goal = group.get_current_pose().pose\n",
    "print pose_goal.position\n",
    "pose_goal.position.z = pose_goal.position.z + 0.1\n",
    "group.set_pose_target(pose_goal)\n",
    "plan = group.go(wait=True)\n",
    "group.stop()\n",
    "group.clear_pose_targets()\n",
    "current_pose = group.get_current_pose().pose\n",
    "all_close(pose_goal, current_pose, 0.01)"
   ]
  },
  {
   "cell_type": "code",
   "execution_count": 10,
   "metadata": {},
   "outputs": [],
   "source": [
    "### Change maximum speeds of all joints [rad/s] with scalling factor\n",
    "velocity_scale_factor = 0.01\n",
    "group.set_max_velocity_scaling_factor(velocity_scale_factor)\n",
    "### Change maximum accerelation of all joints [rad/s] with scalling factor\n",
    "accerelation_scale_factor = 0.001\n",
    "group.set_max_acceleration_scaling_factor(accerelation_scale_factor)"
   ]
  },
  {
   "cell_type": "code",
   "execution_count": 16,
   "metadata": {},
   "outputs": [
    {
     "name": "stdout",
     "output_type": "stream",
     "text": [
      "x: 0.506460646397\n",
      "y: 0.607210866512\n",
      "z: 0.442070549363\n"
     ]
    },
    {
     "data": {
      "text/plain": [
       "False"
      ]
     },
     "execution_count": 16,
     "metadata": {},
     "output_type": "execute_result"
    }
   ],
   "source": [
    "### Cartesian control\n",
    "\n",
    "pose_goal = group.get_current_pose().pose\n",
    "print pose_goal.position\n",
    "pose_goal.position.z = pose_goal.position.z +0.1\n",
    "group.set_pose_target(pose_goal)\n",
    "plan = group.go(wait=True)\n",
    "group.stop()\n",
    "group.clear_pose_targets()\n",
    "current_pose = group.get_current_pose().pose\n",
    "all_close(pose_goal, current_pose, 0.01)"
   ]
  },
  {
   "cell_type": "code",
   "execution_count": 14,
   "metadata": {},
   "outputs": [],
   "source": [
    "### Cartesian contro; with waypoints\n",
    "waypoints = []\n",
    "scale = 1\n",
    "wpose = group.get_current_pose().pose\n",
    "wpose.position.z -= scale * 0.2  # First move up (z)\n",
    "wpose.position.y += scale * 0.4  # and sideways (y)\n",
    "waypoints.append(copy.deepcopy(wpose))\n",
    "\n",
    "wpose.position.x += scale * 0.2  # Second move forward/backwards in (x)\n",
    "waypoints.append(copy.deepcopy(wpose))\n",
    "\n",
    "wpose.position.y -= scale * 0.2  # Third move sideways (y)\n",
    "waypoints.append(copy.deepcopy(wpose))\n",
    "    \n",
    "    \n",
    "(plan, fraction) = group.compute_cartesian_path(\n",
    "                                    waypoints,   # waypoints to follow\n",
    "                                    0.001,        # eef_step\n",
    "                                    0.0)         # jump_threshold"
   ]
  },
  {
   "cell_type": "code",
   "execution_count": 8,
   "metadata": {},
   "outputs": [],
   "source": [
    "### Display trajectory\n",
    "display_trajectory = moveit_msgs.msg.DisplayTrajectory()\n",
    "display_trajectory.trajectory_start = robot.get_current_state()\n",
    "display_trajectory.trajectory.append(plan)\n",
    "# Publish\n",
    "display_trajectory_publisher.publish(display_trajectory);"
   ]
  },
  {
   "cell_type": "code",
   "execution_count": 15,
   "metadata": {},
   "outputs": [
    {
     "data": {
      "text/plain": [
       "True"
      ]
     },
     "execution_count": 15,
     "metadata": {},
     "output_type": "execute_result"
    }
   ],
   "source": [
    "### Execute the trajectory with waypoints\n",
    "group.execute(plan, wait=True)"
   ]
  },
  {
   "cell_type": "code",
   "execution_count": null,
   "metadata": {},
   "outputs": [],
   "source": []
  }
 ],
 "metadata": {
  "kernelspec": {
   "display_name": "Python 2",
   "language": "python",
   "name": "python2"
  },
  "language_info": {
   "codemirror_mode": {
    "name": "ipython",
    "version": 2
   },
   "file_extension": ".py",
   "mimetype": "text/x-python",
   "name": "python",
   "nbconvert_exporter": "python",
   "pygments_lexer": "ipython2",
   "version": "2.7.17"
  }
 },
 "nbformat": 4,
 "nbformat_minor": 2
}
