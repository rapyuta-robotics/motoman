{
 "cells": [
  {
   "cell_type": "code",
   "execution_count": 1,
   "metadata": {},
   "outputs": [],
   "source": [
    "import sys\n",
    "import copy\n",
    "import rospy\n",
    "import moveit_commander\n",
    "import moveit_msgs.msg\n",
    "import geometry_msgs.msg\n",
    "from math import pi\n",
    "from std_msgs.msg import String\n",
    "from moveit_commander.conversions import pose_to_list\n",
    "import tf\n",
    "from geometry_msgs.msg import Quaternion\n",
    "from geometry_msgs.msg import Vector3\n",
    "from geometry_msgs.msg import Pose\n"
   ]
  },
  {
   "cell_type": "code",
   "execution_count": 2,
   "metadata": {},
   "outputs": [],
   "source": [
    "def all_close(goal, actual, tolerance):\n",
    "  \"\"\"\n",
    "  Convenience method for testing if a list of values are within a tolerance of their counterparts in another list\n",
    "  @param: goal       A list of floats, a Pose or a PoseStamped\n",
    "  @param: actual     A list of floats, a Pose or a PoseStamped\n",
    "  @param: tolerance  A float\n",
    "  @returns: bool\n",
    "  \"\"\"\n",
    "  all_equal = True\n",
    "  if type(goal) is list:\n",
    "    for index in range(len(goal)):\n",
    "      if abs(actual[index] - goal[index]) > tolerance:\n",
    "        return False\n",
    "\n",
    "  elif type(goal) is geometry_msgs.msg.PoseStamped:\n",
    "    return all_close(goal.pose, actual.pose, tolerance)\n",
    "\n",
    "  elif type(goal) is geometry_msgs.msg.Pose:\n",
    "    return all_close(pose_to_list(goal), pose_to_list(actual), tolerance)\n",
    "\n",
    "  return True"
   ]
  },
  {
   "cell_type": "code",
   "execution_count": 3,
   "metadata": {},
   "outputs": [],
   "source": [
    "def euler_to_quaternion(euler):\n",
    "    \"\"\"Convert Euler Angles to Quaternion\n",
    "\n",
    "    euler: geometry_msgs/Vector3\n",
    "    quaternion: geometry_msgs/Quaternion\n",
    "    \"\"\"\n",
    "    q = tf.transformations.quaternion_from_euler(euler.x, euler.y, euler.z)\n",
    "    return Quaternion(x=q[0], y=q[1], z=q[2], w=q[3])"
   ]
  },
  {
   "cell_type": "code",
   "execution_count": 4,
   "metadata": {},
   "outputs": [],
   "source": [
    "def quaternion_to_euler(quaternion):\n",
    "    \"\"\"Convert Quaternion to Euler Angles\n",
    "\n",
    "    quarternion: geometry_msgs/Quaternion\n",
    "    euler: geometry_msgs/Vector3\n",
    "    \"\"\"\n",
    "    e = tf.transformations.euler_from_quaternion((quaternion.x, quaternion.y, quaternion.z, quaternion.w))\n",
    "    return Vector3(x=e[0], y=e[1], z=e[2])"
   ]
  },
  {
   "cell_type": "code",
   "execution_count": 5,
   "metadata": {},
   "outputs": [],
   "source": [
    "def go2Position(target_pose,group, orientation_tolerance, position_tolerance):\n",
    "    set_goal_orientation_tolerance(orientation_tolerance)\n",
    "    set_goal_position_tolerance(position_toleranca)\n",
    "    group.set_pose_target(target_pose)\n",
    "    plan = group.plan()\n",
    "    group.go(wait=True)\n",
    "    group.stop()\n",
    "    group.clear_pose_targets()\n",
    "    current_pose = group.get_current_pose().pose\n",
    "    print all_close(work1_pose, current_pose, 0.01)"
   ]
  },
  {
   "cell_type": "code",
   "execution_count": 1,
   "metadata": {},
   "outputs": [
    {
     "ename": "NameError",
     "evalue": "name 'moveit_commander' is not defined",
     "output_type": "error",
     "traceback": [
      "\u001b[0;31m---------------------------------------------------------------------------\u001b[0m",
      "\u001b[0;31mNameError\u001b[0m                                 Traceback (most recent call last)",
      "\u001b[0;32m<ipython-input-1-72cd734c10ce>\u001b[0m in \u001b[0;36m<module>\u001b[0;34m()\u001b[0m\n\u001b[0;32m----> 1\u001b[0;31m \u001b[0mmoveit_commander\u001b[0m\u001b[0;34m.\u001b[0m\u001b[0mroscpp_initialize\u001b[0m\u001b[0;34m(\u001b[0m\u001b[0msys\u001b[0m\u001b[0;34m.\u001b[0m\u001b[0margv\u001b[0m\u001b[0;34m)\u001b[0m\u001b[0;34m\u001b[0m\u001b[0m\n\u001b[0m\u001b[1;32m      2\u001b[0m \u001b[0mrospy\u001b[0m\u001b[0;34m.\u001b[0m\u001b[0minit_node\u001b[0m\u001b[0;34m(\u001b[0m\u001b[0;34m'move_group_python_interface_tutorial'\u001b[0m\u001b[0;34m,\u001b[0m\u001b[0manonymous\u001b[0m\u001b[0;34m=\u001b[0m\u001b[0mTrue\u001b[0m\u001b[0;34m)\u001b[0m\u001b[0;34m\u001b[0m\u001b[0m\n\u001b[1;32m      3\u001b[0m \u001b[0mrobot\u001b[0m \u001b[0;34m=\u001b[0m \u001b[0mmoveit_commander\u001b[0m\u001b[0;34m.\u001b[0m\u001b[0mRobotCommander\u001b[0m\u001b[0;34m(\u001b[0m\u001b[0;34m)\u001b[0m\u001b[0;34m\u001b[0m\u001b[0m\n\u001b[1;32m      4\u001b[0m \u001b[0mscene\u001b[0m \u001b[0;34m=\u001b[0m \u001b[0mmoveit_commander\u001b[0m\u001b[0;34m.\u001b[0m\u001b[0mPlanningSceneInterface\u001b[0m\u001b[0;34m(\u001b[0m\u001b[0;34m)\u001b[0m\u001b[0;34m\u001b[0m\u001b[0m\n\u001b[1;32m      5\u001b[0m \u001b[0;31m## set robot name ##\u001b[0m\u001b[0;34m\u001b[0m\u001b[0;34m\u001b[0m\u001b[0m\n",
      "\u001b[0;31mNameError\u001b[0m: name 'moveit_commander' is not defined"
     ]
    }
   ],
   "source": [
    "moveit_commander.roscpp_initialize(sys.argv)\n",
    "rospy.init_node('move_group_python_interface_tutorial',anonymous=True)\n",
    "robot = moveit_commander.RobotCommander()\n",
    "scene = moveit_commander.PlanningSceneInterface()\n",
    "## set robot name ##\n",
    "group_name = \"hc10_arm\"\n",
    "group = moveit_commander.MoveGroupCommander(group_name)\n",
    "display_trajectory_publisher = rospy.Publisher('/move_group/display_planned_path',\n",
    "                                                   moveit_msgs.msg.DisplayTrajectory,\n",
    "                                                   queue_size=20)"
   ]
  },
  {
   "cell_type": "code",
   "execution_count": 2,
   "metadata": {
    "scrolled": true
   },
   "outputs": [
    {
     "name": "stdout",
     "output_type": "stream",
     "text": [
      "============ Printing robot state\n"
     ]
    },
    {
     "ename": "NameError",
     "evalue": "name 'robot' is not defined",
     "output_type": "error",
     "traceback": [
      "\u001b[0;31m---------------------------------------------------------------------------\u001b[0m",
      "\u001b[0;31mNameError\u001b[0m                                 Traceback (most recent call last)",
      "\u001b[0;32m<ipython-input-2-440f200edfd1>\u001b[0m in \u001b[0;36m<module>\u001b[0;34m()\u001b[0m\n\u001b[1;32m      1\u001b[0m \u001b[0;32mprint\u001b[0m \u001b[0;34m\"============ Printing robot state\"\u001b[0m\u001b[0;34m\u001b[0m\u001b[0m\n\u001b[0;32m----> 2\u001b[0;31m \u001b[0;32mprint\u001b[0m \u001b[0mrobot\u001b[0m\u001b[0;34m.\u001b[0m\u001b[0mget_current_state\u001b[0m\u001b[0;34m(\u001b[0m\u001b[0;34m)\u001b[0m\u001b[0;34m\u001b[0m\u001b[0m\n\u001b[0m\u001b[1;32m      3\u001b[0m \u001b[0;32mprint\u001b[0m \u001b[0;34m\"\"\u001b[0m\u001b[0;34m\u001b[0m\u001b[0m\n",
      "\u001b[0;31mNameError\u001b[0m: name 'robot' is not defined"
     ]
    }
   ],
   "source": [
    "print \"============ Printing robot state\"\n",
    "print robot.get_current_state()\n",
    "print \"\""
   ]
  },
  {
   "cell_type": "code",
   "execution_count": 8,
   "metadata": {},
   "outputs": [],
   "source": [
    "### set poses\n",
    "init_pose = group.get_current_pose().pose\n",
    "\n",
    "work1_pose = Pose()\n",
    "work1_pose.position.x =0.65\n",
    "work1_pose.position.y = 0.35\n",
    "work1_pose.position.z =  1.20\n",
    "work1_pose.orientation.x =  -0.5\n",
    "work1_pose.orientation.y = 0.5\n",
    "work1_pose.orientation.z = -0.5\n",
    "work1_pose.orientation.w = 0.5\n",
    "\n",
    "chuck_pose = Pose()\n",
    "chuck_pose.position.x =-0.835\n",
    "chuck_pose.position.y = -0.382\n",
    "chuck_pose.position.z =   1.45\n",
    "chuck_pose.orientation.x = -0.0\n",
    "chuck_pose.orientation.y =0.7071067811865475\n",
    "chuck_pose.orientation.z =-0.7071067811865475\n",
    "chuck_pose.orientation.w = 0.0\n",
    "\n",
    "work2_pose = work1_pose\n",
    "work2_pose.position.y = work1_pose.position.y -0.175"
   ]
  },
  {
   "cell_type": "code",
   "execution_count": 9,
   "metadata": {},
   "outputs": [
    {
     "name": "stdout",
     "output_type": "stream",
     "text": [
      "True\n"
     ]
    }
   ],
   "source": [
    "### init to work 1 for picking\n",
    "go2Position(work1_pose, group)"
   ]
  },
  {
   "cell_type": "code",
   "execution_count": 20,
   "metadata": {},
   "outputs": [
    {
     "name": "stdout",
     "output_type": "stream",
     "text": [
      "True\n"
     ]
    }
   ],
   "source": [
    "### work1 to chuck\n",
    "go2Position(chuck_pose, group)"
   ]
  },
  {
   "cell_type": "code",
   "execution_count": 21,
   "metadata": {},
   "outputs": [
    {
     "name": "stdout",
     "output_type": "stream",
     "text": [
      "False\n"
     ]
    }
   ],
   "source": [
    "### chuck to init\n",
    "go2Position(init_pose, group)"
   ]
  },
  {
   "cell_type": "code",
   "execution_count": 24,
   "metadata": {
    "scrolled": true
   },
   "outputs": [
    {
     "name": "stdout",
     "output_type": "stream",
     "text": [
      "False\n"
     ]
    }
   ],
   "source": [
    "### init to chuck\n",
    "go2Position(chuck_pose, group)"
   ]
  },
  {
   "cell_type": "code",
   "execution_count": 13,
   "metadata": {},
   "outputs": [
    {
     "name": "stdout",
     "output_type": "stream",
     "text": [
      "True\n"
     ]
    }
   ],
   "source": [
    "### chuck to work1 for placing work1\n",
    "go2Position(work1_pose, group)"
   ]
  },
  {
   "cell_type": "code",
   "execution_count": 17,
   "metadata": {},
   "outputs": [
    {
     "name": "stdout",
     "output_type": "stream",
     "text": [
      "True\n"
     ]
    }
   ],
   "source": [
    "### work1 to work2 for picking work2\n",
    "go2Position(work2_pose, group)"
   ]
  },
  {
   "cell_type": "code",
   "execution_count": 19,
   "metadata": {},
   "outputs": [
    {
     "data": {
      "text/plain": [
       "True"
      ]
     },
     "execution_count": 19,
     "metadata": {},
     "output_type": "execute_result"
    }
   ],
   "source": [
    "### Cartesian control  to work 1\n",
    "\n",
    "work1_pose = Pose()\n",
    "work1_pose.position.x =0.65\n",
    "work1_pose.position.y = 0.35\n",
    "work1_pose.position.z =  1.20\n",
    "work1_pose.orientation.x =  -0.5\n",
    "work1_pose.orientation.y = 0.5\n",
    "work1_pose.orientation.z = -0.5\n",
    "work1_pose.orientation.w = 0.5\n",
    "\n",
    "group.set_pose_target(work1_pose)\n",
    "group.go(wait=True)\n",
    "group.stop()\n",
    "group.clear_pose_targets()\n",
    "current_pose = group.get_current_pose().pose\n",
    "all_close(work1_pose, current_pose, 0.01)"
   ]
  },
  {
   "cell_type": "code",
   "execution_count": 15,
   "metadata": {},
   "outputs": [
    {
     "name": "stdout",
     "output_type": "stream",
     "text": [
      "0.0001\n",
      "0.0001\n",
      "0.001\n"
     ]
    }
   ],
   "source": [
    "### check tolerance\n",
    "print group.get_goal_joint_tolerance()\n",
    "print group.get_goal_position_tolerance()\n",
    "print group.get_goal_orientation_tolerance()"
   ]
  },
  {
   "cell_type": "code",
   "execution_count": 16,
   "metadata": {},
   "outputs": [],
   "source": [
    "group.set_goal_tolerance(0.01)"
   ]
  },
  {
   "cell_type": "code",
   "execution_count": 55,
   "metadata": {},
   "outputs": [],
   "source": [
    "### Change maximum speeds of all joints [rad/s] with scalling factor\n",
    "velocity_scale_factor = 1\n",
    "group.set_max_velocity_scaling_factor(velocity_scale_factor)\n",
    "### Change maximum accerelation of all joints [rad/s] with scalling factor\n",
    "accerelation_scale_factor = 1\n",
    "group.set_max_acceleration_scaling_factor(accerelation_scale_factor)"
   ]
  },
  {
   "cell_type": "code",
   "execution_count": 56,
   "metadata": {},
   "outputs": [
    {
     "name": "stdout",
     "output_type": "stream",
     "text": [
      "position: \n",
      "  x: -0.834302395118\n",
      "  y: -0.382228674484\n",
      "  z: 1.44426198344\n",
      "orientation: \n",
      "  x: 0.0248620509637\n",
      "  y: 0.706861752033\n",
      "  z: -0.706533564866\n",
      "  w: 0.0232091286425\n",
      "orientation(euler):\n",
      "x: -1.57079632679\n",
      "y: 0.0\n",
      "z: 3.14159265359\n"
     ]
    }
   ],
   "source": [
    "### To get pose \n",
    "print group.get_current_pose().pose\n",
    "print \"orientation(euler):\\n\",quaternion_to_euler(chuck_pose.orientation)"
   ]
  },
  {
   "cell_type": "code",
   "execution_count": 57,
   "metadata": {},
   "outputs": [
    {
     "name": "stdout",
     "output_type": "stream",
     "text": [
      "x: -4.329780281177466e-17\n",
      "y: 0.7071067811865475\n",
      "z: -0.7071067811865476\n",
      "w: 4.329780281177467e-17\n"
     ]
    }
   ],
   "source": [
    "### From euler to quaterninon\n",
    "print euler_to_quaternion(Vector3(-pi/2.0, 0.0, -pi))\n"
   ]
  },
  {
   "cell_type": "code",
   "execution_count": 75,
   "metadata": {},
   "outputs": [],
   "source": [
    "### Cartesian contro; with waypoints\n",
    "waypoints = []\n",
    "\n",
    "init_pose = group.get_current_pose().pose\n",
    "work1_pose = group.get_current_pose().pose\n",
    "work1_pose.position.x =0.65\n",
    "work1_pose.position.y = 0.35\n",
    "work1_pose.position.z =  1.20\n",
    "work1_pose.orientation.x =  -0.5\n",
    "work1_pose.orientation.y = 0.5\n",
    "work1_pose.orientation.z = -0.5\n",
    "work1_pose.orientation.w = 0.5\n",
    "waypoints.append(copy.deepcopy(work1_pose))\n",
    "\n",
    "chuck_pose = work1_pose\n",
    "chuck_pose.position.x =-1.0\n",
    "chuck_pose.position.y = -0.4\n",
    "chuck_pose.position.z =  1.4\n",
    "chuck_pose.orientation.x =  0.0\n",
    "chuck_pose.orientation.y =0.7071067811865475\n",
    "chuck_pose.orientation.z =-0.7071067811865475\n",
    "chuck_pose.orientation.w = 0.0\n",
    "waypoints.append(copy.deepcopy(chuck_pose))\n",
    "\n",
    "\n",
    "work2_pose = work1_pose\n",
    "work2_pose.position.y = work1_pose.position.y -0.175\n",
    "waypoints.append(copy.deepcopy(work2_pose))\n",
    "\n",
    "waypoints.append(copy.deepcopy(chuck_pose))\n",
    "waypoints.append(copy.deepcopy(init_pose))\n",
    "\n",
    "(plan, fraction) = group.compute_cartesian_path(\n",
    "                                    waypoints,   # waypoints to follow\n",
    "                                    0.01,        # eef_step\n",
    "                                    0.0)         # jump_threshold"
   ]
  },
  {
   "cell_type": "code",
   "execution_count": 76,
   "metadata": {},
   "outputs": [],
   "source": [
    "### Display trajectory\n",
    "display_trajectory = moveit_msgs.msg.DisplayTrajectory()\n",
    "display_trajectory.trajectory_start = robot.get_current_state()\n",
    "display_trajectory.trajectory.append(plan)\n",
    "# Publish\n",
    "display_trajectory_publisher.publish(display_trajectory);\n"
   ]
  },
  {
   "cell_type": "code",
   "execution_count": 77,
   "metadata": {},
   "outputs": [
    {
     "data": {
      "text/plain": [
       "True"
      ]
     },
     "execution_count": 77,
     "metadata": {},
     "output_type": "execute_result"
    }
   ],
   "source": [
    "group.execute(plan, wait=True)"
   ]
  },
  {
   "cell_type": "code",
   "execution_count": null,
   "metadata": {},
   "outputs": [],
   "source": []
  }
 ],
 "metadata": {
  "kernelspec": {
   "display_name": "Python 2",
   "language": "python",
   "name": "python2"
  },
  "language_info": {
   "codemirror_mode": {
    "name": "ipython",
    "version": 2
   },
   "file_extension": ".py",
   "mimetype": "text/x-python",
   "name": "python",
   "nbconvert_exporter": "python",
   "pygments_lexer": "ipython2",
   "version": "2.7.17"
  }
 },
 "nbformat": 4,
 "nbformat_minor": 2
}
