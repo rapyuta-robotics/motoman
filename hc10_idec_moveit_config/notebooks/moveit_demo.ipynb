{
 "cells": [
  {
   "cell_type": "markdown",
   "metadata": {},
   "source": [
    "NOTE:\n",
    "You are supposeed to launch moveit demo. \n",
    "Also, change \"group_name\" correspoinding to your robot's planning name."
   ]
  },
  {
   "cell_type": "code",
   "execution_count": 1,
   "metadata": {},
   "outputs": [],
   "source": [
    "import sys\n",
    "import copy\n",
    "import rospy\n",
    "import moveit_commander\n",
    "import moveit_msgs.msg\n",
    "import geometry_msgs.msg\n",
    "from math import pi\n",
    "from std_msgs.msg import String\n",
    "from moveit_commander.conversions import pose_to_list"
   ]
  },
  {
   "cell_type": "code",
   "execution_count": 2,
   "metadata": {},
   "outputs": [],
   "source": [
    "def all_close(goal, actual, tolerance):\n",
    "  \"\"\"\n",
    "  Convenience method for testing if a list of values are within a tolerance of their counterparts in another list\n",
    "  @param: goal       A list of floats, a Pose or a PoseStamped\n",
    "  @param: actual     A list of floats, a Pose or a PoseStamped\n",
    "  @param: tolerance  A float\n",
    "  @returns: bool\n",
    "  \"\"\"\n",
    "  all_equal = True\n",
    "  if type(goal) is list:\n",
    "    for index in range(len(goal)):\n",
    "      if abs(actual[index] - goal[index]) > tolerance:\n",
    "        return False\n",
    "\n",
    "  elif type(goal) is geometry_msgs.msg.PoseStamped:\n",
    "    return all_close(goal.pose, actual.pose, tolerance)\n",
    "\n",
    "  elif type(goal) is geometry_msgs.msg.Pose:\n",
    "    return all_close(pose_to_list(goal), pose_to_list(actual), tolerance)\n",
    "\n",
    "  return True"
   ]
  },
  {
   "cell_type": "code",
   "execution_count": 3,
   "metadata": {},
   "outputs": [
    {
     "ename": "RuntimeError",
     "evalue": "RobotInterfacePython: invalid robot model",
     "output_type": "error",
     "traceback": [
      "\u001b[0;31m---------------------------------------------------------------------------\u001b[0m",
      "\u001b[0;31mRuntimeError\u001b[0m                              Traceback (most recent call last)",
      "\u001b[0;32m<ipython-input-3-72cd734c10ce>\u001b[0m in \u001b[0;36m<module>\u001b[0;34m()\u001b[0m\n\u001b[1;32m      1\u001b[0m \u001b[0mmoveit_commander\u001b[0m\u001b[0;34m.\u001b[0m\u001b[0mroscpp_initialize\u001b[0m\u001b[0;34m(\u001b[0m\u001b[0msys\u001b[0m\u001b[0;34m.\u001b[0m\u001b[0margv\u001b[0m\u001b[0;34m)\u001b[0m\u001b[0;34m\u001b[0m\u001b[0m\n\u001b[1;32m      2\u001b[0m \u001b[0mrospy\u001b[0m\u001b[0;34m.\u001b[0m\u001b[0minit_node\u001b[0m\u001b[0;34m(\u001b[0m\u001b[0;34m'move_group_python_interface_tutorial'\u001b[0m\u001b[0;34m,\u001b[0m\u001b[0manonymous\u001b[0m\u001b[0;34m=\u001b[0m\u001b[0mTrue\u001b[0m\u001b[0;34m)\u001b[0m\u001b[0;34m\u001b[0m\u001b[0m\n\u001b[0;32m----> 3\u001b[0;31m \u001b[0mrobot\u001b[0m \u001b[0;34m=\u001b[0m \u001b[0mmoveit_commander\u001b[0m\u001b[0;34m.\u001b[0m\u001b[0mRobotCommander\u001b[0m\u001b[0;34m(\u001b[0m\u001b[0;34m)\u001b[0m\u001b[0;34m\u001b[0m\u001b[0m\n\u001b[0m\u001b[1;32m      4\u001b[0m \u001b[0mscene\u001b[0m \u001b[0;34m=\u001b[0m \u001b[0mmoveit_commander\u001b[0m\u001b[0;34m.\u001b[0m\u001b[0mPlanningSceneInterface\u001b[0m\u001b[0;34m(\u001b[0m\u001b[0;34m)\u001b[0m\u001b[0;34m\u001b[0m\u001b[0m\n\u001b[1;32m      5\u001b[0m \u001b[0;31m## set robot name ##\u001b[0m\u001b[0;34m\u001b[0m\u001b[0;34m\u001b[0m\u001b[0m\n",
      "\u001b[0;32m/opt/ros/melodic/lib/python2.7/dist-packages/moveit_commander/robot.pyc\u001b[0m in \u001b[0;36m__init__\u001b[0;34m(self, robot_description, ns)\u001b[0m\n\u001b[1;32m    149\u001b[0m         \u001b[0mself\u001b[0m\u001b[0;34m.\u001b[0m\u001b[0m_robot_description\u001b[0m \u001b[0;34m=\u001b[0m \u001b[0mrobot_description\u001b[0m\u001b[0;34m\u001b[0m\u001b[0m\n\u001b[1;32m    150\u001b[0m         \u001b[0mself\u001b[0m\u001b[0;34m.\u001b[0m\u001b[0m_ns\u001b[0m \u001b[0;34m=\u001b[0m \u001b[0mns\u001b[0m\u001b[0;34m\u001b[0m\u001b[0m\n\u001b[0;32m--> 151\u001b[0;31m         \u001b[0mself\u001b[0m\u001b[0;34m.\u001b[0m\u001b[0m_r\u001b[0m \u001b[0;34m=\u001b[0m \u001b[0m_moveit_robot_interface\u001b[0m\u001b[0;34m.\u001b[0m\u001b[0mRobotInterface\u001b[0m\u001b[0;34m(\u001b[0m\u001b[0mrobot_description\u001b[0m\u001b[0;34m,\u001b[0m \u001b[0mns\u001b[0m\u001b[0;34m)\u001b[0m\u001b[0;34m\u001b[0m\u001b[0m\n\u001b[0m\u001b[1;32m    152\u001b[0m         \u001b[0mself\u001b[0m\u001b[0;34m.\u001b[0m\u001b[0m_groups\u001b[0m \u001b[0;34m=\u001b[0m \u001b[0;34m{\u001b[0m\u001b[0;34m}\u001b[0m\u001b[0;34m\u001b[0m\u001b[0m\n\u001b[1;32m    153\u001b[0m         \u001b[0mself\u001b[0m\u001b[0;34m.\u001b[0m\u001b[0m_joint_owner_groups\u001b[0m \u001b[0;34m=\u001b[0m \u001b[0;34m{\u001b[0m\u001b[0;34m}\u001b[0m\u001b[0;34m\u001b[0m\u001b[0m\n",
      "\u001b[0;31mRuntimeError\u001b[0m: RobotInterfacePython: invalid robot model"
     ]
    }
   ],
   "source": [
    "moveit_commander.roscpp_initialize(sys.argv)\n",
    "rospy.init_node('move_group_python_interface_tutorial',anonymous=True)\n",
    "robot = moveit_commander.RobotCommander()\n",
    "scene = moveit_commander.PlanningSceneInterface()\n",
    "## set robot name ##\n",
    "group_name = \"hc10_arm\"\n",
    "group = moveit_commander.MoveGroupCommander(group_name)\n",
    "display_trajectory_publisher = rospy.Publisher('/move_group/display_planned_path',\n",
    "                                                   moveit_msgs.msg.DisplayTrajectory,\n",
    "                                                   queue_size=20)"
   ]
  },
  {
   "cell_type": "code",
   "execution_count": null,
   "metadata": {
    "scrolled": false
   },
   "outputs": [],
   "source": [
    "print \"============ Printing robot state\"\n",
    "print robot.get_current_state()\n",
    "print \"\""
   ]
  },
  {
   "cell_type": "code",
   "execution_count": 12,
   "metadata": {},
   "outputs": [
    {
     "data": {
      "text/plain": [
       "False"
      ]
     },
     "execution_count": 12,
     "metadata": {},
     "output_type": "execute_result"
    }
   ],
   "source": [
    "### joint control\n",
    "\n",
    "## Get current joint states\n",
    "joint_goal = group.get_current_joint_values()\n",
    "## Decreased joint_goal[0] by 0.1 rad, which means joint_1_s\n",
    "joint_goal[1] = joint_goal[1] + 0.1\n",
    "group.go(joint_goal, wait=True)\n",
    "group.stop()\n",
    "current_joints = group.get_current_joint_values()\n",
    "all_close(joint_goal, current_joints, 0.01)"
   ]
  },
  {
   "cell_type": "code",
   "execution_count": 13,
   "metadata": {},
   "outputs": [
    {
     "name": "stdout",
     "output_type": "stream",
     "text": [
      "x: 0.686570421042\n",
      "y: 0.180566317577\n",
      "z: 1.18885809075\n"
     ]
    },
    {
     "data": {
      "text/plain": [
       "False"
      ]
     },
     "execution_count": 13,
     "metadata": {},
     "output_type": "execute_result"
    }
   ],
   "source": [
    "### Cartesian control\n",
    "\n",
    "pose_goal = group.get_current_pose().pose\n",
    "print pose_goal.position\n",
    "pose_goal.position.z = pose_goal.position.z - 0.1\n",
    "group.set_pose_target(pose_goal)\n",
    "plan = group.go(wait=True)\n",
    "group.stop()\n",
    "group.clear_pose_targets()\n",
    "current_pose = group.get_current_pose().pose\n",
    "all_close(pose_goal, current_pose, 0.01)"
   ]
  },
  {
   "cell_type": "code",
   "execution_count": 14,
   "metadata": {},
   "outputs": [],
   "source": [
    "### Change maximum speeds of all joints [rad/s] with scalling factor\n",
    "velocity_scale_factor = 1\n",
    "group.set_max_velocity_scaling_factor(velocity_scale_factor)\n",
    "### Change maximum accerelation of all joints [rad/s] with scalling factor\n",
    "accerelation_scale_factor = 1\n",
    "group.set_max_acceleration_scaling_factor(accerelation_scale_factor)"
   ]
  },
  {
   "cell_type": "code",
   "execution_count": 8,
   "metadata": {},
   "outputs": [
    {
     "name": "stdout",
     "output_type": "stream",
     "text": [
      "position: \n",
      "  x: -1.0007157552\n",
      "  y: -0.391880869492\n",
      "  z: 1.3863149243\n",
      "orientation: \n",
      "  x: 0.0462167653147\n",
      "  y: 0.708960420459\n",
      "  z: -0.700973741634\n",
      "  w: 0.0622490671896\n"
     ]
    }
   ],
   "source": [
    "pose_goal = group.get_current_pose().pose\n",
    "print pose_goal"
   ]
  },
  {
   "cell_type": "code",
   "execution_count": 16,
   "metadata": {},
   "outputs": [
    {
     "name": "stdout",
     "output_type": "stream",
     "text": [
      "x: 0.686570421042\n",
      "y: 0.180566317577\n",
      "z: 1.18885809075\n"
     ]
    },
    {
     "data": {
      "text/plain": [
       "False"
      ]
     },
     "execution_count": 16,
     "metadata": {},
     "output_type": "execute_result"
    }
   ],
   "source": [
    "### Cartesian control\n",
    "\n",
    "pose_goal = group.get_current_pose().pose\n",
    "print pose_goal.position\n",
    "pose_goal.position.z = pose_goal.position.z + 0.1\n",
    "group.set_pose_target(pose_goal)\n",
    "plan = group.go(wait=True)\n",
    "group.stop()\n",
    "group.clear_pose_targets()\n",
    "current_pose = group.get_current_pose().pose\n",
    "all_close(pose_goal, current_pose, 0.01)"
   ]
  },
  {
   "cell_type": "code",
   "execution_count": 17,
   "metadata": {},
   "outputs": [],
   "source": [
    "### Cartesian contro; with waypoints\n",
    "waypoints = []\n",
    "scale = 1\n",
    "wpose = group.get_current_pose().pose\n",
    "wpose.position.z -= scale * 0.2  # First move up (z)\n",
    "wpose.position.y += scale * 0.4  # and sideways (y)\n",
    "waypoints.append(copy.deepcopy(wpose))\n",
    "\n",
    "wpose.position.x += scale * 0.2  # Second move forward/backwards in (x)\n",
    "waypoints.append(copy.deepcopy(wpose))\n",
    "\n",
    "wpose.position.y -= scale * 0.2  # Third move sideways (y)\n",
    "waypoints.append(copy.deepcopy(wpose))\n",
    "    \n",
    "    \n",
    "(plan, fraction) = group.compute_cartesian_path(\n",
    "                                    waypoints,   # waypoints to follow\n",
    "                                    0.01,        # eef_step\n",
    "                                    0.0)         # jump_threshold"
   ]
  },
  {
   "cell_type": "code",
   "execution_count": 18,
   "metadata": {},
   "outputs": [],
   "source": [
    "### Display trajectory\n",
    "display_trajectory = moveit_msgs.msg.DisplayTrajectory()\n",
    "display_trajectory.trajectory_start = robot.get_current_state()\n",
    "display_trajectory.trajectory.append(plan)\n",
    "# Publish\n",
    "display_trajectory_publisher.publish(display_trajectory);"
   ]
  },
  {
   "cell_type": "code",
   "execution_count": 19,
   "metadata": {},
   "outputs": [
    {
     "data": {
      "text/plain": [
       "False"
      ]
     },
     "execution_count": 19,
     "metadata": {},
     "output_type": "execute_result"
    }
   ],
   "source": [
    "### Execute the trajectory with waypoints\n",
    "group.execute(plan, wait=True)"
   ]
  },
  {
   "cell_type": "code",
   "execution_count": null,
   "metadata": {},
   "outputs": [],
   "source": []
  }
 ],
 "metadata": {
  "kernelspec": {
   "display_name": "Python 2",
   "language": "python",
   "name": "python2"
  },
  "language_info": {
   "codemirror_mode": {
    "name": "ipython",
    "version": 2
   },
   "file_extension": ".py",
   "mimetype": "text/x-python",
   "name": "python",
   "nbconvert_exporter": "python",
   "pygments_lexer": "ipython2",
   "version": "2.7.17"
  }
 },
 "nbformat": 4,
 "nbformat_minor": 2
}
